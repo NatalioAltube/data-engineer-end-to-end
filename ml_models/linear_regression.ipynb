{
 "cells": [
  {
   "cell_type": "markdown",
   "metadata": {
    "application/vnd.databricks.v1+cell": {
     "cellMetadata": {},
     "inputWidgets": {},
     "nuid": "e52ec421-69cf-4178-a202-7387cd01befc",
     "showTitle": false,
     "tableResultSettingsMap": {},
     "title": ""
    }
   },
   "source": [
    "Linear Regression Analysis"
   ]
  },
  {
   "cell_type": "markdown",
   "metadata": {
    "application/vnd.databricks.v1+cell": {
     "cellMetadata": {
      "byteLimit": 2048000,
      "rowLimit": 10000
     },
     "inputWidgets": {},
     "nuid": "b93eb795-e678-4508-bcee-8dd67c652a9a",
     "showTitle": false,
     "tableResultSettingsMap": {},
     "title": ""
    }
   },
   "source": [
    "Para resolver la limitación de conectividad entre Databricks y una base de datos local, podemos optar por leer directamente el archivo CSV que generaste previamente. Esto es perfectamente válido y funcional para el flujo de trabajo de Machine Learning con Spark MLib.\n",
    "\n",
    "A continuación te doy los pasos para que puedas cargar ese archivo CSV en Databricks y proceder a entrenar un modelo de Machine Learning con Spark MLib:\n",
    "\n",
    "1. Cargar el archivo CSV en Databricks\n",
    "Si tienes tu archivo CSV (ecommerce_data_cleaned.csv) guardado en tu máquina local, lo primero es cargarlo en el entorno de Databricks.\n",
    "\n",
    "Opciones para cargar el archivo CSV en Databricks:\n",
    "Subida manual: Puedes subir el archivo directamente al sistema de archivos de Databricks (DBFS).\n",
    "Ve al menú de la izquierda en Databricks.\n",
    "Haz clic en Data > Add Data > Upload File.\n",
    "Sube el archivo ecommerce_data_cleaned.csv."
   ]
  },
  {
   "cell_type": "code",
   "execution_count": 0,
   "metadata": {
    "application/vnd.databricks.v1+cell": {
     "cellMetadata": {
      "byteLimit": 2048000,
      "rowLimit": 10000
     },
     "inputWidgets": {},
     "nuid": "9789db41-7111-488b-afad-7605e1e2faf0",
     "showTitle": false,
     "tableResultSettingsMap": {},
     "title": ""
    }
   },
   "outputs": [
    {
     "output_type": "stream",
     "name": "stdout",
     "output_type": "stream",
     "text": [
      "root\n |-- InvoiceNo: string (nullable = true)\n |-- StockCode: string (nullable = true)\n |-- Description: string (nullable = true)\n |-- Quantity: integer (nullable = true)\n |-- InvoiceDate: timestamp (nullable = true)\n |-- UnitPrice: double (nullable = true)\n |-- CustomerID: string (nullable = true)\n |-- Country: string (nullable = true)\n |-- Revenue: double (nullable = true)\n |-- Month: integer (nullable = true)\n\n+---------+---------+--------------------+--------+-------------------+---------+----------+--------------+------------------+-----+\n|InvoiceNo|StockCode|         Description|Quantity|        InvoiceDate|UnitPrice|CustomerID|       Country|           Revenue|Month|\n+---------+---------+--------------------+--------+-------------------+---------+----------+--------------+------------------+-----+\n|   536365|   85123A|WHITE HANGING HEA...|       6|2010-12-01 08:26:00|     2.55|   17850.0|United Kingdom|15.299999999999999|   12|\n|   536365|    71053| WHITE METAL LANTERN|       6|2010-12-01 08:26:00|     3.39|   17850.0|United Kingdom|             20.34|   12|\n|   536365|   84406B|CREAM CUPID HEART...|       8|2010-12-01 08:26:00|     2.75|   17850.0|United Kingdom|              22.0|   12|\n|   536365|   84029G|KNITTED UNION FLA...|       6|2010-12-01 08:26:00|     3.39|   17850.0|United Kingdom|             20.34|   12|\n|   536365|   84029E|RED WOOLLY HOTTIE...|       6|2010-12-01 08:26:00|     3.39|   17850.0|United Kingdom|             20.34|   12|\n|   536365|    22752|SET 7 BABUSHKA NE...|       2|2010-12-01 08:26:00|     7.65|   17850.0|United Kingdom|              15.3|   12|\n|   536365|    21730|GLASS STAR FROSTE...|       6|2010-12-01 08:26:00|     4.25|   17850.0|United Kingdom|              25.5|   12|\n|   536366|    22633|HAND WARMER UNION...|       6|2010-12-01 08:28:00|     1.85|   17850.0|United Kingdom|11.100000000000001|   12|\n|   536366|    22632|HAND WARMER RED P...|       6|2010-12-01 08:28:00|     1.85|   17850.0|United Kingdom|11.100000000000001|   12|\n|   536367|    84879|ASSORTED COLOUR B...|      32|2010-12-01 08:34:00|     1.69|   13047.0|United Kingdom|             54.08|   12|\n+---------+---------+--------------------+--------+-------------------+---------+----------+--------------+------------------+-----+\nonly showing top 10 rows\n\n"
     ]
    }
   ],
   "source": [
    "# Ruta donde se ha subido el archivo en DBFS (ajusta según la ubicación exacta)\n",
    "file_path = \"/FileStore/tables/ecommerce_data_cleaned.csv\"\n",
    "\n",
    "# Cargar los datos usando Spark\n",
    "df = spark.read.option(\"header\", \"true\").option(\"inferSchema\", \"true\").csv(file_path)\n",
    "\n",
    "# Mostrar el esquema para asegurarte que los tipos de datos son correctos\n",
    "df.printSchema()\n",
    "\n",
    "# Ver algunas filas de ejemplo\n",
    "df.show(10)\n",
    "\n"
   ]
  },
  {
   "cell_type": "markdown",
   "metadata": {
    "application/vnd.databricks.v1+cell": {
     "cellMetadata": {
      "byteLimit": 2048000,
      "rowLimit": 10000
     },
     "inputWidgets": {},
     "nuid": "caf2c76d-7afc-4607-9869-fa96c3eee26c",
     "showTitle": false,
     "tableResultSettingsMap": {},
     "title": ""
    }
   },
   "source": [
    "2. Preprocesar los datos\n",
    "Antes de entrenar un modelo, es importante preprocesar los datos. En este caso, por ejemplo, puedes transformar las columnas en vectores de características y dividir los datos en conjuntos de entrenamiento y prueba."
   ]
  },
  {
   "cell_type": "markdown",
   "metadata": {
    "application/vnd.databricks.v1+cell": {
     "cellMetadata": {},
     "inputWidgets": {},
     "nuid": "029cb9b7-2b1b-4f13-a5a6-9e93b3f349ea",
     "showTitle": false,
     "tableResultSettingsMap": {},
     "title": ""
    }
   },
   "source": [
    "1.Aquí estamos asegurando que la columna Month, que originalmente podría ser un tipo de dato diferente (como float o string), se convierte explícitamente en un número entero (int). Esto es importante porque para el modelo de Machine Learning, queremos que las variables sean numéricas y no categóricas o de otro tipo.\n",
    "2.En este paso, creamos una nueva columna llamada label en el DataFrame que contendrá el valor de la columna Revenue. En Machine Learning, la columna label es la variable objetivo (es decir, lo que intentamos predecir). El modelo va a aprender a partir de los datos (features) para predecir este valor.\n",
    "3.El VectorAssembler toma varias columnas de entrada (Quantity, UnitPrice, y Month) y las combina en una sola columna llamada features. Esta nueva columna features será el conjunto de variables (o características) que alimentarán al modelo de Machine Learning para hacer las predicciones. En este caso, estamos usando:\n",
    "Quantity (Cantidad de productos),\n",
    "UnitPrice (Precio por unidad),\n",
    "Month (Mes de la transacción).\n",
    "4.El Pipeline permite organizar el flujo de trabajo de transformación de datos y modelado. Aquí solo tiene un paso: el VectorAssembler. Es decir, primero tomamos las columnas y las convertimos en vectores de características.\n",
    "5.Aplicamos el pipeline a los datos (df_ml). Esto toma las columnas que mencionamos antes, las convierte en el formato requerido (vectores de características) y añade la columna features al DataFrame.\n",
    "6.Esta línea simplemente muestra las primeras 10 filas de la columna features (nuestros vectores de características) y la columna label (los valores de ingresos o Revenue que queremos predecir)."
   ]
  },
  {
   "cell_type": "markdown",
   "metadata": {
    "application/vnd.databricks.v1+cell": {
     "cellMetadata": {},
     "inputWidgets": {},
     "nuid": "7ca6ba54-cf06-4e43-b1a0-54c3768c5a79",
     "showTitle": false,
     "tableResultSettingsMap": {},
     "title": ""
    }
   },
   "source": [
    "Análisis del resultado:\n",
    "Columnas de entrada (features): Las columnas Quantity, UnitPrice y Month han sido convertidas en una sola columna de tipo vector, donde cada fila contiene un vector con los valores de estas tres columnas. Por ejemplo, [6.0, 2.55, 12.0] significa que en esa transacción:\n",
    "Se vendieron 6 unidades,\n",
    "A un precio de 2.55 por unidad,\n",
    "En el mes 12 (diciembre).\n",
    "Variable objetivo (label): La columna label contiene los valores de los ingresos totales (Revenue) para cada fila. Esta es la variable que el modelo intentará predecir.\n",
    "Por ejemplo, en una de las filas, el vector features es [6.0, 2.55, 12.0] y el label (ingreso total) es 15.3. Es decir, el modelo intentará aprender la relación entre las características (cantidad, precio y mes) para predecir los ingresos (Revenue).\n",
    "\n",
    "Regresión lineal:\n",
    "En este contexto, la regresión lineal es una elección sensata porque estamos tratando de predecir una variable continua (ingresos) basada en otras variables numéricas (cantidad, precio, mes). El modelo intentará encontrar la relación lineal entre estas variables y el Revenue."
   ]
  },
  {
   "cell_type": "code",
   "execution_count": 0,
   "metadata": {
    "application/vnd.databricks.v1+cell": {
     "cellMetadata": {
      "byteLimit": 2048000,
      "rowLimit": 10000
     },
     "inputWidgets": {},
     "nuid": "cf989424-9614-4ab7-bd99-e7fbf32c2b9a",
     "showTitle": false,
     "tableResultSettingsMap": {},
     "title": ""
    }
   },
   "outputs": [
    {
     "output_type": "stream",
     "name": "stdout",
     "output_type": "stream",
     "text": [
      "+----------------+------------------+\n|        features|             label|\n+----------------+------------------+\n| [6.0,2.55,12.0]|15.299999999999999|\n| [6.0,3.39,12.0]|             20.34|\n| [8.0,2.75,12.0]|              22.0|\n| [6.0,3.39,12.0]|             20.34|\n| [6.0,3.39,12.0]|             20.34|\n| [2.0,7.65,12.0]|              15.3|\n| [6.0,4.25,12.0]|              25.5|\n| [6.0,1.85,12.0]|11.100000000000001|\n| [6.0,1.85,12.0]|11.100000000000001|\n|[32.0,1.69,12.0]|             54.08|\n+----------------+------------------+\nonly showing top 10 rows\n\n"
     ]
    }
   ],
   "source": [
    "from pyspark.ml.feature import VectorAssembler\n",
    "from pyspark.ml import Pipeline\n",
    "from pyspark.ml.regression import LinearRegression\n",
    "from pyspark.sql.functions import col\n",
    "\n",
    "# Convertir la columna Month a tipo entero explícitamente\n",
    "df_ml = df.withColumn(\"Month\", col(\"Month\").cast(\"int\"))\n",
    "\n",
    "# Continuar con el procesamiento como antes\n",
    "df_ml = df_ml.withColumn(\"label\", df[\"Revenue\"])\n",
    "\n",
    "assembler = VectorAssembler(inputCols=[\"Quantity\", \"UnitPrice\", \"Month\"], outputCol=\"features\")\n",
    "pipeline = Pipeline(stages=[assembler])\n",
    "df_prepared = pipeline.fit(df_ml).transform(df_ml)\n",
    "\n",
    "df_prepared.select(\"features\", \"label\").show(10)\n",
    "\n"
   ]
  },
  {
   "cell_type": "markdown",
   "metadata": {
    "application/vnd.databricks.v1+cell": {
     "cellMetadata": {
      "byteLimit": 2048000,
      "rowLimit": 10000
     },
     "inputWidgets": {},
     "nuid": "faa79d08-53b6-42de-98dd-8d69a49e8ce7",
     "showTitle": false,
     "tableResultSettingsMap": {},
     "title": ""
    }
   },
   "source": [
    "3. Dividir los datos en entrenamiento y prueba"
   ]
  },
  {
   "cell_type": "code",
   "execution_count": 0,
   "metadata": {
    "application/vnd.databricks.v1+cell": {
     "cellMetadata": {
      "byteLimit": 2048000,
      "rowLimit": 10000
     },
     "inputWidgets": {},
     "nuid": "888112b9-117f-443f-9aef-351880b9417b",
     "showTitle": false,
     "tableResultSettingsMap": {},
     "title": ""
    }
   },
   "outputs": [
    {
     "output_type": "stream",
     "name": "stdout",
     "output_type": "stream",
     "text": [
      "Tamaño del conjunto de entrenamiento: 420665\nTamaño del conjunto de prueba: 105389\n"
     ]
    }
   ],
   "source": [
    "# Dividimos los datos en conjunto de entrenamiento y prueba\n",
    "train_data, test_data = df_prepared.randomSplit([0.8, 0.2])\n",
    "\n",
    "# Mostrar el tamaño de cada conjunto\n",
    "print(f\"Tamaño del conjunto de entrenamiento: {train_data.count()}\")\n",
    "print(f\"Tamaño del conjunto de prueba: {test_data.count()}\")\n"
   ]
  },
  {
   "cell_type": "markdown",
   "metadata": {
    "application/vnd.databricks.v1+cell": {
     "cellMetadata": {
      "byteLimit": 2048000,
      "rowLimit": 10000
     },
     "inputWidgets": {},
     "nuid": "22579d71-b13b-4d8c-bcf2-a5745e5869d6",
     "showTitle": false,
     "tableResultSettingsMap": {},
     "title": ""
    }
   },
   "source": [
    "4. Entrenar el modelo con Spark MLlib\n",
    "Usaremos un modelo simple de regresión lineal para predecir el Revenue basado en las características.\n",
    "\n",
    "¿Por qué usamos regresión lineal y cuándo cambiar de modelo?\n",
    "Regresión lineal se usa en problemas donde la relación entre las variables independientes (como Quantity, UnitPrice, etc.) y la variable dependiente (en este caso, Revenue) es lineal. Si asumimos que el ingreso aumenta linealmente con el precio y la cantidad, la regresión lineal puede capturar esta relación.\n",
    "\n",
    "Sin embargo, no siempre un modelo de regresión lineal es la mejor opción. Dependiendo de la naturaleza del negocio, la distribución de los datos, y la complejidad de las relaciones entre las variables, se puede optar por otros modelos. Aquí hay algunas situaciones donde podríamos cambiar de modelo:\n",
    "\n",
    "Relaciones no lineales: Si los datos no siguen una tendencia lineal. Por ejemplo, si el aumento en el precio provoca una disminución en la cantidad comprada, el modelo debe capturar esta curvatura.\n",
    "\n",
    "Modelos recomendados:\n",
    "Regresión polinomial\n",
    "Árboles de decisión (capturan relaciones más complejas)\n",
    "Random Forest\n",
    "Clasificación: Si tu objetivo no es predecir un valor continuo como Revenue, sino más bien categorizar transacciones en grupos (por ejemplo, clientes leales vs. no leales).\n",
    "\n",
    "Modelos recomendados:\n",
    "Regresión logística\n",
    "SVM (Máquinas de Vectores de Soporte)\n",
    "Árboles de decisión\n",
    "Series temporales: Si estás trabajando con datos temporales (ventas por mes, semana, etc.), y quieres hacer predicciones basadas en patrones de tiempo.\n",
    "\n",
    "Modelos recomendados:\n",
    "ARIMA\n",
    "Prophet (para modelar tendencias y estacionalidades)\n",
    "Grandes volúmenes de datos o complejidad alta: Si tienes un gran volumen de datos o una complejidad alta entre las variables que hace que un modelo lineal sea inadecuado.\n",
    "\n",
    "Modelos recomendados:\n",
    "Random Forest\n",
    "XGBoost\n",
    "Redes Neuronales\n",
    "¿Cómo saber qué modelo elegir?\n",
    "Algunas señales que indican la necesidad de un modelo diferente:\n",
    "\n",
    "Distribución no lineal: Observa los gráficos de dispersión entre las variables. Si no muestran una relación lineal, entonces la regresión lineal no es adecuada.\n",
    "Bajo desempeño de la regresión lineal: Si el error cuadrático medio (RMSE) es alto o el R² es bajo, es una señal de que el modelo no está capturando bien la relación entre las variables.\n",
    "Dominancia de ciertos valores: Si el dataset está desequilibrado (por ejemplo, muchas transacciones pequeñas y pocas grandes), es posible que un modelo más robusto como random forest o XGBoost sea más eficaz."
   ]
  },
  {
   "cell_type": "markdown",
   "metadata": {
    "application/vnd.databricks.v1+cell": {
     "cellMetadata": {},
     "inputWidgets": {},
     "nuid": "99060ee9-788d-445e-b32f-8b39abbadd2b",
     "showTitle": false,
     "tableResultSettingsMap": {},
     "title": ""
    }
   },
   "source": [
    "1.Aquí estamos creando un objeto de regresión lineal de la librería de PySpark MLlib. Este modelo utiliza las características (featuresCol=\"features\") para intentar predecir la columna objetivo (labelCol=\"label\", que en este caso es el ingreso Revenue).\n",
    "2. Entrenar el modelo:Estamos entrenando el modelo con los datos de entrenamiento (train_data). El modelo ajusta una línea (o hiperplano en casos multivariables) para intentar capturar la relación entre las variables predictoras (features) y la variable objetivo (label).\n",
    "3.Después de entrenar el modelo, evaluamos su rendimiento con los datos de prueba (test_data). Aquí se analiza cómo el modelo entrenado generaliza a datos que no ha visto antes.\n",
    "4.l RMSE (Root Mean Squared Error) mide el promedio de la magnitud de los errores entre las predicciones del modelo y los valores reales. Es una métrica clave para modelos de regresión. Cuanto más bajo sea el RMSE, mejor está funcionando el modelo.\n",
    "\n",
    "Análisis del resultado:\n",
    "RMSE: 131.8571\n",
    "\n",
    "Este valor nos dice que, en promedio, el modelo tiene un error de aproximadamente 131.85 unidades monetarias (asumiendo que los ingresos se miden en alguna moneda) al predecir el ingreso Revenue. Este número refleja el grado de precisión del modelo. Si el RMSE es alto, significa que el modelo no está prediciendo de manera precisa."
   ]
  },
  {
   "cell_type": "code",
   "execution_count": 0,
   "metadata": {
    "application/vnd.databricks.v1+cell": {
     "cellMetadata": {
      "byteLimit": 2048000,
      "rowLimit": 10000
     },
     "inputWidgets": {},
     "nuid": "10d771b0-7f80-429d-b206-6f510ffdd053",
     "showTitle": false,
     "tableResultSettingsMap": {},
     "title": ""
    }
   },
   "outputs": [
    {
     "output_type": "stream",
     "name": "stdout",
     "output_type": "stream",
     "text": [
      "RMSE: 131.8571551027136\n"
     ]
    }
   ],
   "source": [
    "# Definir el modelo de regresión lineal\n",
    "lr = LinearRegression(featuresCol=\"features\", labelCol=\"label\")\n",
    "\n",
    "# Entrenar el modelo\n",
    "lr_model = lr.fit(train_data)\n",
    "\n",
    "# Evaluar el modelo en los datos de prueba\n",
    "test_results = lr_model.evaluate(test_data)\n",
    "\n",
    "# Imprimir el error cuadrático medio (RMSE)\n",
    "print(f\"RMSE: {test_results.rootMeanSquaredError}\")\n"
   ]
  },
  {
   "cell_type": "markdown",
   "metadata": {
    "application/vnd.databricks.v1+cell": {
     "cellMetadata": {
      "byteLimit": 2048000,
      "rowLimit": 10000
     },
     "inputWidgets": {},
     "nuid": "f9198d5a-88c5-4415-b360-cab16d1ae31b",
     "showTitle": false,
     "tableResultSettingsMap": {},
     "title": ""
    }
   },
   "source": [
    "5. Hacer predicciones con el modelo entrenado\n",
    "Puedes usar el modelo para hacer predicciones sobre nuevos datos o sobre el conjunto de prueba:"
   ]
  },
  {
   "cell_type": "markdown",
   "metadata": {
    "application/vnd.databricks.v1+cell": {
     "cellMetadata": {},
     "inputWidgets": {},
     "nuid": "6b3086f5-f3af-4582-88d4-d628e4a977e7",
     "showTitle": false,
     "tableResultSettingsMap": {},
     "title": ""
    }
   },
   "source": [
    "1. Comparar el RMSE con la escala de la variable objetivo:\n",
    "El primer paso es observar la magnitud de la variable objetivo, en este caso el ingreso (Revenue). El RMSE mide el error medio en las unidades de la variable que estamos tratando de predecir. Debemos ver si un error de 131 unidades es significativo comparado con el rango típico de ingresos.\n",
    "\n",
    "Si los ingresos promedio son mucho más grandes (por ejemplo, 1000-5000), entonces un RMSE de 131 podría ser aceptable.\n",
    "Si los ingresos están alrededor de 100-500, entonces un RMSE de 131 es probablemente demasiado alto.\n",
    "2. División del dataset:\n",
    "Distribución de Revenue: Un análisis de la distribución de la variable Revenue es clave. ¿Es muy dispersa, con ingresos que van desde valores bajos (por ejemplo, menos de 10) hasta ingresos muy altos (por ejemplo, más de 500)? Si es así, podríamos esperar que el RMSE sea mayor.\n",
    "Para visualizar esto, podemos graficar el histograma de Revenue y observar la distribución\n",
    "\n"
   ]
  },
  {
   "cell_type": "markdown",
   "metadata": {
    "application/vnd.databricks.v1+cell": {
     "cellMetadata": {},
     "inputWidgets": {},
     "nuid": "99438f92-669a-4164-80da-5c87191ee1fa",
     "showTitle": false,
     "tableResultSettingsMap": {},
     "title": ""
    }
   },
   "source": [
    "Podemos analizar otras métricas como el Mean Absolute Error (MAE), que mide el error promedio absoluto sin elevarlo al cuadrado, y R² (coeficiente de determinación), que mide qué tan bien el modelo ajusta los datos en una escala de 0 a 1."
   ]
  },
  {
   "cell_type": "code",
   "execution_count": 0,
   "metadata": {
    "application/vnd.databricks.v1+cell": {
     "cellMetadata": {
      "byteLimit": 2048000,
      "rowLimit": 10000
     },
     "inputWidgets": {},
     "nuid": "344bcfe1-aa32-4418-89cb-be55d83c8d73",
     "showTitle": false,
     "tableResultSettingsMap": {},
     "title": ""
    }
   },
   "outputs": [
    {
     "output_type": "stream",
     "name": "stdout",
     "output_type": "stream",
     "text": [
      "MAE: 11.104848964380473\nR²: 0.19472034306316977\n"
     ]
    }
   ],
   "source": [
    "print(f\"MAE: {test_results.meanAbsoluteError}\")\n",
    "print(f\"R²: {test_results.r2}\")"
   ]
  },
  {
   "cell_type": "markdown",
   "metadata": {
    "application/vnd.databricks.v1+cell": {
     "cellMetadata": {},
     "inputWidgets": {},
     "nuid": "a9526fc6-bb63-4f9c-8f87-97b89fda9f89",
     "showTitle": false,
     "tableResultSettingsMap": {},
     "title": ""
    }
   },
   "source": [
    "Revisar el impacto de las características:\n",
    "Otro aspecto clave es analizar qué tan fuertes son las relaciones entre las variables predictoras (en este caso, Quantity, UnitPrice, Month) y el Revenue. Quizás hay otras variables importantes que no hemos incluido, o quizá alguna variable no tiene tanta influencia en el ingreso.\n",
    "\n",
    "Análisis de correlación: Podríamos analizar la correlación entre las características y la variable objetivo:"
   ]
  },
  {
   "cell_type": "code",
   "execution_count": 0,
   "metadata": {
    "application/vnd.databricks.v1+cell": {
     "cellMetadata": {
      "byteLimit": 2048000,
      "rowLimit": 10000
     },
     "inputWidgets": {},
     "nuid": "bcd28f9c-a836-41c7-bd22-385ff9ea33e6",
     "showTitle": false,
     "tableResultSettingsMap": {},
     "title": ""
    }
   },
   "outputs": [
    {
     "output_type": "stream",
     "name": "stdout",
     "output_type": "stream",
     "text": [
      "Out[10]: 0.1582833446566748"
     ]
    }
   ],
   "source": [
    "df_ml.corr(\"Quantity\", \"Revenue\")\n",
    "df_ml.corr(\"UnitPrice\", \"Revenue\")"
   ]
  },
  {
   "cell_type": "markdown",
   "metadata": {
    "application/vnd.databricks.v1+cell": {
     "cellMetadata": {},
     "inputWidgets": {},
     "nuid": "d4da42ac-c7c1-4d60-a31f-4632703ecba7",
     "showTitle": false,
     "tableResultSettingsMap": {},
     "title": ""
    }
   },
   "source": [
    "Visualizar los residuos del modelo:\n",
    "Analizar los residuos del modelo (las diferencias entre las predicciones y los valores reales) también puede proporcionar información importante. Si los residuos están distribuidos de manera simétrica alrededor de 0, el modelo está funcionando razonablemente bien."
   ]
  },
  {
   "cell_type": "code",
   "execution_count": 0,
   "metadata": {
    "application/vnd.databricks.v1+cell": {
     "cellMetadata": {
      "byteLimit": 2048000,
      "rowLimit": 10000
     },
     "inputWidgets": {},
     "nuid": "5c080125-3770-44a2-9868-c8f122082c1b",
     "showTitle": false,
     "tableResultSettingsMap": {},
     "title": ""
    }
   },
   "outputs": [
    {
     "output_type": "stream",
     "name": "stdout",
     "output_type": "stream",
     "text": [
      "+------------------+------------------+\n|        prediction|             label|\n+------------------+------------------+\n|11.296106608938958|              15.3|\n| 11.11870282252547|             17.85|\n|14.057835286132027|              25.5|\n| 76.03375271370597|              40.8|\n| 31.42977426575197|              53.1|\n| 22.89695229753819|              45.0|\n|32.402245213425324|              17.0|\n| 41.59616979765846|              90.0|\n|  40.7793830158121| 70.80000000000001|\n|14.772523720247593|29.700000000000003|\n|11.296106608938958|              15.3|\n|13.179789495647192|             20.34|\n| 13.69795442484344|              27.8|\n|15.642896320190152|              22.0|\n|11.607474940592954|11.100000000000001|\n|  16.8195639633251|               8.5|\n|19.936100213345146|              10.2|\n|17.942645788363844|              19.5|\n| 38.32902267027303|13.200000000000001|\n|13.547343547478054|              22.5|\n+------------------+------------------+\nonly showing top 20 rows\n\n"
     ]
    },
    {
     "output_type": "display_data",
     "data": {
      "application/vnd.databricks.v1+bamboolib_hint": "{\"pd.DataFrames\": [], \"version\": \"0.0.1\"}",
      "text/plain": []
     },
     "metadata": {},
     "output_type": "display_data"
    },
    {
     "output_type": "display_data",
     "data": {
      "image/png": "[encoded data removed]"
     },
     "metadata": {
      "application/vnd.databricks.v1+output": {
       "addedWidgets": {},
       "arguments": {},
       "data": "data:image/png;base64,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\n",
       "datasetInfos": [],
       "metadata": {},
       "removedWidgets": [],
       "type": "image"
      }
     },
     "output_type": "display_data"
    }
   ],
   "source": [
    "predictions = lr_model.transform(test_data)\n",
    "predictions.select(\"prediction\", \"label\").show()\n",
    "\n",
    "# Convert to pandas for visualization\n",
    "import matplotlib.pyplot as plt\n",
    "import pandas as pd\n",
    "pred_df = predictions.select(\"prediction\", \"label\").toPandas()\n",
    "pred_df[\"residual\"] = pred_df[\"label\"] - pred_df[\"prediction\"]\n",
    "pred_df.plot.scatter(x=\"prediction\", y=\"residual\")\n",
    "plt.axhline(0, color='red')\n",
    "plt.show()\n"
   ]
  },
  {
   "cell_type": "code",
   "execution_count": 0,
   "metadata": {
    "application/vnd.databricks.v1+cell": {
     "cellMetadata": {
      "byteLimit": 2048000,
      "rowLimit": 10000
     },
     "inputWidgets": {},
     "nuid": "f3960149-b683-4e3e-8d8c-1d2f097ff083",
     "showTitle": false,
     "tableResultSettingsMap": {},
     "title": ""
    }
   },
   "outputs": [
    {
     "output_type": "stream",
     "name": "stdout",
     "output_type": "stream",
     "text": [
      "+------------------+------------------+-----------------+\n|        prediction|             label|         features|\n+------------------+------------------+-----------------+\n|11.296106608938958|              15.3|  [2.0,7.65,12.0]|\n| 11.11870282252547|             17.85|  [3.0,5.95,12.0]|\n|14.057835286132027|              25.5|  [6.0,4.25,12.0]|\n| 76.03375271370597|              40.8| [48.0,0.85,12.0]|\n| 31.42977426575197|              53.1| [18.0,2.95,12.0]|\n| 22.89695229753819|              45.0| [12.0,3.75,12.0]|\n|32.402245213425324|              17.0| [20.0,0.85,12.0]|\n| 41.59616979765846|              90.0| [24.0,3.75,12.0]|\n|  40.7793830158121| 70.80000000000001| [24.0,2.95,12.0]|\n|14.772523720247593|29.700000000000003|  [6.0,4.95,12.0]|\n|11.296106608938958|              15.3|  [2.0,7.65,12.0]|\n|13.179789495647192|             20.34|  [6.0,3.39,12.0]|\n| 13.69795442484344|              27.8|  [4.0,6.95,12.0]|\n|15.642896320190152|              22.0|  [8.0,2.75,12.0]|\n|11.607474940592954|11.100000000000001|  [6.0,1.85,12.0]|\n|  16.8195639633251|               8.5| [10.0,0.85,12.0]|\n|19.936100213345146|              10.2| [12.0,0.85,12.0]|\n|17.942645788363844|              19.5| [10.0,1.95,12.0]|\n| 38.32902267027303|13.200000000000001| [24.0,0.55,12.0]|\n|13.547343547478054|              22.5|  [6.0,3.75,12.0]|\n| 150.3507604798523|36.480000000000004| [96.0,0.38,12.0]|\n| 9.560434697515447|              11.9|  [2.0,5.95,12.0]|\n|  9.61402051561165|              11.8|  [4.0,2.95,12.0]|\n| 2.795150838234893|              0.85|  [1.0,0.85,12.0]|\n|3.9182326632736353|              1.95|  [1.0,1.95,12.0]|\n|4.5308227496584035|              2.55|  [1.0,2.55,12.0]|\n| 57.54894174382036|38.160000000000004| [36.0,1.06,12.0]|\n| 4.939216140581582|              2.95|  [1.0,2.95,12.0]|\n| 5.629648309879849|               4.2|   [2.0,2.1,12.0]|\n|13.214255595237567|             24.75|  [5.0,4.95,12.0]|\n|10.586491463285006|               5.1|  [6.0,0.85,12.0]|\n|16.503122343209487|              25.5| [2.0,12.75,12.0]|\n|24.014960834115318|              87.6| [8.0,10.95,12.0]|\n|11.629194561179443|             19.35|  [3.0,6.45,12.0]|\n| 75.82955601824438|31.200000000000003| [48.0,0.65,12.0]|\n|12.163942564650712|              17.0|   [2.0,8.5,12.0]|\n|17.942645788363844|              19.5| [10.0,1.95,12.0]|\n|22.295935254816687|             19.95| [1.0,19.95,12.0]|\n|157.88048199607348|             165.0|[100.0,1.65,12.0]|\n|302.99724107796527|            647.04|[192.0,3.37,12.0]|\n|13.493757729381851|              27.0|  [4.0,6.75,12.0]|\n|  20.7528869951915|19.799999999999997| [12.0,1.65,12.0]|\n| 19.49707731810273|              5.04| [12.0,0.42,12.0]|\n|12.163942564650712|              17.0|   [2.0,8.5,12.0]|\n| 38.63531771346541|              20.4| [24.0,0.85,12.0]|\n|10.430807297458008|              15.0|  [4.0,3.75,12.0]|\n| 79.76287905011078|              72.5| [50.0,1.45,12.0]|\n| 22.89695229753819|              45.0| [12.0,3.75,12.0]|\n| 75.90102486165593|             34.56| [48.0,0.72,12.0]|\n|12.676970947535493|              23.8|  [4.0,5.95,12.0]|\n+------------------+------------------+-----------------+\nonly showing top 50 rows\n\n"
     ]
    }
   ],
   "source": [
    "# Predicciones en los datos de prueba\n",
    "predictions = lr_model.transform(test_data)\n",
    "\n",
    "# Mostrar las predicciones junto con los valores reales\n",
    "predictions.select(\"prediction\", \"label\", \"features\").show(50)\n"
   ]
  },
  {
   "cell_type": "markdown",
   "metadata": {
    "application/vnd.databricks.v1+cell": {
     "cellMetadata": {},
     "inputWidgets": {},
     "nuid": "28522b03-ec1f-42e3-ad46-7f3a967dc234",
     "showTitle": false,
     "tableResultSettingsMap": {},
     "title": ""
    }
   },
   "source": [
    "1. Distribución del Revenue:\n",
    "El gráfico muestra que la mayoría de los valores de Revenue están cerca de cero, con algunos puntos extremadamente grandes, lo que sugiere una distribución sesgada. Esto explica la dificultad del modelo para ajustar bien los datos, ya que valores de ingresos extremadamente altos pueden influir en las predicciones, resultando en un RMSE elevado.\n",
    "\n",
    "La dispersión en los datos también sugiere que podrías tener outliers o datos con variabilidad que el modelo de regresión lineal no captura adecuadamente.\n",
    "\n",
    "2. Gráfico de residuos:\n",
    "En el gráfico de los residuos (predicciones menos valores reales) se observa que para la mayoría de los valores bajos de Revenue, los residuos están cercanos a cero, lo cual es una señal positiva. Sin embargo, para valores de predicción más altos (como en el rango de 3000 a 14000), los residuos se disparan, lo que sugiere que el modelo tiene dificultades para predecir valores más altos de Revenue.\n",
    "\n",
    "Conclusión del gráfico: El modelo de regresión lineal parece ajustarse bien a los valores más bajos de Revenue, pero no es adecuado para capturar los ingresos más altos. Esto podría deberse a la naturaleza lineal del modelo que no puede capturar relaciones no lineales complejas en los datos.\n",
    "\n",
    "3. MAE y R²:\n",
    "MAE (Error Absoluto Medio): 11.10 significa que, en promedio, el modelo se equivoca por aproximadamente 11 unidades de Revenue en cada predicción. Esto podría parecer razonable si la mayoría de los valores de Revenue están en un rango similar, pero si hay valores mucho más altos, el error podría ser significativo.\n",
    "\n",
    "R² (Coeficiente de determinación): 0.19 indica que el modelo explica solo el 19% de la variabilidad total de los datos. Esto es muy bajo, lo que sugiere que el modelo no está capturando bien las relaciones entre las variables predictoras y la variable objetivo Revenue.\n",
    "\n",
    "4. Correlación entre las variables:\n",
    "La correlación entre Quantity y Revenue es 0.158, lo cual es muy baja, sugiriendo que la cantidad de productos comprados no es un predictor fuerte de los ingresos.\n",
    "La correlación entre UnitPrice y Revenue es también baja, lo que indica que los precios unitarios no están fuertemente relacionados con los ingresos, al menos de forma lineal.\n",
    "Posibles conclusiones y mejoras:\n",
    "Regresión lineal no es adecuada para este dataset: Dado el bajo valor de R² y los altos errores en los ingresos más grandes, la regresión lineal no es el modelo ideal. Podrías intentar usar modelos no lineales como árboles de decisión, random forests o incluso regresión polinómica para capturar relaciones más complejas entre las variables.\n",
    "\n",
    "Eliminar o tratar los outliers: Valores extremos de Revenue pueden estar afectando la calidad del modelo. Puedes considerar eliminar o tratar estos outliers antes de entrenar nuevamente.\n",
    "\n",
    "Agregar más características: La baja correlación sugiere que las tres características actuales (Quantity, UnitPrice, Month) no son suficientes para predecir el Revenue. Quizás otras variables como la categoría del producto, el cliente, o el día de la semana podrían mejorar el modelo.\n",
    "\n",
    "Normalización o estandarización de los datos: Debido a la disparidad en las escalas de los datos, especialmente Revenue, podrías aplicar técnicas de escalado o normalización para hacer que los modelos funcionen mejor."
   ]
  },
  {
   "cell_type": "markdown",
   "metadata": {
    "application/vnd.databricks.v1+cell": {
     "cellMetadata": {
      "byteLimit": 2048000,
      "rowLimit": 10000
     },
     "inputWidgets": {},
     "nuid": "977ad683-847f-4da0-a803-bec9cb26df12",
     "showTitle": false,
     "tableResultSettingsMap": {},
     "title": ""
    }
   },
   "source": [
    "6. Opcional: Guardar el modelo\n",
    "Si deseas guardar el modelo entrenado para su uso futuro:"
   ]
  },
  {
   "cell_type": "code",
   "execution_count": 0,
   "metadata": {
    "application/vnd.databricks.v1+cell": {
     "cellMetadata": {
      "byteLimit": 2048000,
      "rowLimit": 10000
     },
     "inputWidgets": {},
     "nuid": "082999ab-0451-4dd1-84e9-548f0e09dfde",
     "showTitle": false,
     "tableResultSettingsMap": {},
     "title": ""
    }
   },
   "outputs": [],
   "source": [
    "# Guardar el modelo en DBFS\n",
    "lr_model.save(\"/dbfs/ml_models/linear_regression_ecommerce_model\")\n"
   ]
  },
  {
   "cell_type": "code",
   "execution_count": 0,
   "metadata": {
    "application/vnd.databricks.v1+cell": {
     "cellMetadata": {},
     "inputWidgets": {},
     "nuid": "934c2e1b-b9c2-430c-b8d0-162cedd491cb",
     "showTitle": false,
     "tableResultSettingsMap": {},
     "title": ""
    }
   },
   "outputs": [],
   "source": []
  }
 ],
 "metadata": {
  "application/vnd.databricks.v1+notebook": {
   "dashboards": [],
   "environmentMetadata": null,
   "language": "python",
   "notebookMetadata": {
    "pythonIndentUnit": 4
   },
   "notebookName": "linear_regression",
   "widgets": {}
  }
 },
 "nbformat": 4,
 "nbformat_minor": 0
}
